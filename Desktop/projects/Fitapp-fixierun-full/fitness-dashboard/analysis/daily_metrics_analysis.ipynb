{
 "cells": [
  {
   "cell_type": "markdown",
   "metadata": {},
   "source": [
    "# Daily Fitness Metrics Analysis\n",
    "## Data Loading and Preprocessing"
   ]
  },
  {
   "cell_type": "markdown",
   "metadata": {},
   "source": [
    "import pandas as pd\n",
    "import numpy as np\n",
    "import matplotlib.pyplot as plt\n",
    "import seaborn as sns\n",
    "from pathlib import Path\n",
    "from src.data_loader import load_data\n",
    "\n",
    "%matplotlib inline\n",
    "plt.style.use('seaborn-whitegrid')"
   ]
  },
  {
   "cell_type": "code",
   "execution_count": 3,
   "metadata": {},
   "outputs": [
    {
     "ename": "NameError",
     "evalue": "name 'pd' is not defined",
     "output_type": "error",
     "traceback": [
      "\u001b[0;31m---------------------------------------------------------------------------\u001b[0m",
      "\u001b[0;31mNameError\u001b[0m                                 Traceback (most recent call last)",
      "Cell \u001b[0;32mIn[3], line 1\u001b[0m\n\u001b[0;32m----> 1\u001b[0m \u001b[38;5;28;01mdef\u001b[39;00m\u001b[38;5;250m \u001b[39m\u001b[38;5;21mload_daily_metrics\u001b[39m(data_dir: \u001b[38;5;28mstr\u001b[39m) \u001b[38;5;241m-\u001b[39m\u001b[38;5;241m>\u001b[39m \u001b[43mpd\u001b[49m\u001b[38;5;241m.\u001b[39mDataFrame:\n\u001b[1;32m      2\u001b[0m \u001b[38;5;250m    \u001b[39m\u001b[38;5;124;03m\"\"\"Load and concatenate all daily metric CSV files\"\"\"\u001b[39;00m\n\u001b[1;32m      3\u001b[0m     metrics_path \u001b[38;5;241m=\u001b[39m Path(data_dir) \u001b[38;5;241m/\u001b[39m \u001b[38;5;124m'\u001b[39m\u001b[38;5;124mFit\u001b[39m\u001b[38;5;124m'\u001b[39m \u001b[38;5;241m/\u001b[39m \u001b[38;5;124m'\u001b[39m\u001b[38;5;124mMétriques d_activité quotidiennes\u001b[39m\u001b[38;5;124m'\u001b[39m\n",
      "\u001b[0;31mNameError\u001b[0m: name 'pd' is not defined"
     ]
    }
   ],
   "source": [
    "def load_daily_metrics(data_dir: str) -> pd.DataFrame:\n",
    "    \"\"\"Load and concatenate all daily metric CSV files\"\"\"\n",
    "    metrics_path = Path(data_dir) / 'Fit' / 'Métriques d_activité quotidiennes'\n",
    "    dfs = []\n",
    "    \n",
    "    for csv_file in metrics_path.glob('*.csv'):\n",
    "        df = pd.read_csv(\n",
    "            csv_file,\n",
    "            parse_dates=['Heure de début', 'Heure de fin'],\n",
    "            dayfirst=True,\n",
    "            na_values=['', ' ']\n",
    "        )\n",
    "        dfs.append(df)\n",
    "    \n",
    "    return pd.concat(dfs, ignore_index=True)\n",
    "\n",
    "# Load and preprocess data\n",
    "daily_df = load_daily_metrics('..')\n",
    "\n",
    "# Clean column names and types\n",
    "daily_df = daily_df.rename(columns={\n",
    "    'Nombre de minutes actives': 'active_minutes',\n",
    "    'Calories (kcal)': 'calories',\n",
    "    'Distance (m)': 'distance_m',\n",
    "    'Points cardio': 'cardio_points',\n",
    "    'Nombre de pas': 'steps'\n",
    "}).pipe(lambda df: df.assign(\n",
    "    date=pd.to_datetime(df['Heure de début'].dt.date),\n",
    "    distance_km=df['distance_m'] / 1000\n",
    "))\n",
    "\n",
    "# Handle missing data\n",
    "numeric_cols = ['active_minutes', 'calories', 'distance_km', 'cardio_points', 'steps']\n",
    "daily_df[numeric_cols] = daily_df[numeric_cols].fillna(0).apply(pd.to_numeric, errors='coerce')"
   ]
  },
  {
   "cell_type": "markdown",
   "metadata": {},
   "source": [
    "## Temporal Aggregation and Analysis"
   ]
  },
  {
   "cell_type": "code",
   "execution_count": null,
   "metadata": {},
   "outputs": [],
   "source": [
    "# Create daily aggregates\n",
    "daily_agg = daily_df.groupby('date').agg({\n",
    "    'active_minutes': 'sum',\n",
    "    'calories': 'sum',\n",
    "    'distance_km': 'sum',\n",
    "    'cardio_points': 'sum',\n",
    "    'steps': 'sum'\n",
    "}).reset_index()\n",
    "\n",
    "# Calculate 7-day rolling averages\n",
    "rolling_window = daily_agg.set_index('date').rolling('7D').mean().reset_index()\n",
    "rolling_window.columns = [f'{col}_7d_avg' if col != 'date' else col for col in rolling_window.columns]"
   ]
  },
  {
   "cell_type": "markdown",
   "metadata": {},
   "source": [
    "## Visualization Suite"
   ]
  },
  {
   "cell_type": "code",
   "execution_count": null,
   "metadata": {},
   "outputs": [],
   "source": [
    "def plot_metric_trend(df: pd.DataFrame, metric: str, title: str):\n",
    "    \"\"\"Plot metric with rolling average\"\"\"\n",
    "    plt.figure(figsize=(12, 6))\n",
    "    sns.lineplot(data=df, x='date', y=metric, label='Daily')\n",
    "    sns.lineplot(data=df, x='date', y=f'{metric}_7d_avg', label='7D Avg')\n",
    "    plt.title(f'{title} Trend Analysis')\n",
    "    plt.xlabel('Date')\n",
    "    plt.ylabel(metric.replace('_', ' ').title())\n",
    "    plt.xticks(rotation=45)\n",
    "    plt.tight_layout()\n",
    "    plt.show()\n",
    "\n",
    "# Generate trend plots\n",
    "for metric in ['active_minutes', 'calories', 'distance_km', 'steps']:\n",
    "    merged_df = daily_agg.merge(rolling_window, on='date')\n",
    "    plot_metric_trend(merged_df, metric, metric.replace('_', ' ').title())"
   ]
  },
  {
   "cell_type": "markdown",
   "metadata": {},
   "source": [
    "## Statistical Analysis"
   ]
  },
  {
   "cell_type": "code",
   "execution_count": null,
   "metadata": {},
   "outputs": [],
   "source": [
    "# Correlation analysis\n",
    "corr_matrix = daily_agg[numeric_cols].corr()\n",
    "\n",
    "plt.figure(figsize=(10, 8))\n",
    "sns.heatmap(corr_matrix, annot=True, cmap='coolwarm', fmt='.2f',\n",
    "            annot_kws={'size': 12}, cbar_kws={'shrink': 0.82})\n",
    "plt.title('Metric Correlation Matrix')\n",
    "plt.tight_layout()\n",
    "plt.show()\n",
    "\n",
    "# Weekly aggregation\n",
    "weekly_agg = daily_agg.set_index('date').resample('W-MON').agg({\n",
    "    'active_minutes': ['sum', 'mean', 'max'],\n",
    "    'calories': ['sum', 'mean'],\n",
    "    'distance_km': ['sum', 'mean'],\n",
    "    'steps': ['sum', 'mean']\n",
    "})\n",
    "\n",
    "weekly_agg.head().style.background_gradient(cmap='Blues')"
   ]
  },
  {
   "cell_type": "markdown",
   "metadata": {},
   "source": [
    "## Key Insights Documentation"
   ]
  },
  {
   "cell_type": "code",
   "execution_count": null,
   "metadata": {},
   "outputs": [],
   "source": [
    "# Summary statistics\n",
    "daily_agg.describe().T.style.format('{:.2f}')"
   ]
  }
 ],
 "metadata": {
  "kernelspec": {
   "display_name": "Python 3 (ipykernel)",
   "language": "python",
   "name": "python3"
  },
  "language_info": {
   "codemirror_mode": {
    "name": "ipython",
    "version": 3
   },
   "file_extension": ".py",
   "mimetype": "text/x-python",
   "name": "python",
   "nbconvert_exporter": "python",
   "pygments_lexer": "ipython3",
   "version": "3.10.0"
  }
 },
 "nbformat": 4,
 "nbformat_minor": 4
}
